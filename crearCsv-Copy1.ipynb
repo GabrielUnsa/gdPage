{
 "cells": [
  {
   "cell_type": "code",
   "execution_count": 5,
   "metadata": {},
   "outputs": [],
   "source": [
    "from pathlib import Path\n",
    "import csv \n",
    "# # Obtengo todos los archivos de mi ruta\n",
    "def ls(ruta = Path.cwd()):\n",
    "    return [arch.name for arch in Path(ruta).iterdir() if arch.is_file()]"
   ]
  },
  {
   "cell_type": "code",
   "execution_count": 9,
   "metadata": {},
   "outputs": [
    {
     "name": "stdout",
     "output_type": "stream",
     "text": [
      "['gd1Capitulo1.txt', 'gd1Capitulo2.txt', 'gd1Capitulo3.txt', 'gd1Capitulo4.txt', 'gd1Capitulo5.txt', 'gd1Capitulo6.txt', 'gd1Capitulo7.txt', 'gd1Capitulo8.txt', 'gd1Capitulo9.txt', 'gd1Capitulo10.txt', 'gd1Capitulo11.txt', 'gd1Capitulo12.txt', 'gd1Capitulo13.txt', 'gd1Capitulo14.txt']\n"
     ]
    }
   ],
   "source": [
    "lista = ['gd1Capitulo1.txt', 'gd1Capitulo2.txt', 'gd1Capitulo3.txt', 'gd1Capitulo4.txt', 'gd1Capitulo5.txt', 'gd1Capitulo6.txt', 'gd1Capitulo7.txt', 'gd1Capitulo8.txt', 'gd1Capitulo9.txt', 'gd1Capitulo10.txt', 'gd1Capitulo11.txt', 'gd1Capitulo12.txt', 'gd1Capitulo13.txt', 'gd1Capitulo14.txt']\n",
    "print (lista)\n"
   ]
  },
  {
   "cell_type": "code",
   "execution_count": 7,
   "metadata": {},
   "outputs": [
    {
     "ename": "FileNotFoundError",
     "evalue": "[Errno 2] No such file or directory: 'D:\\\\ANA\\\\Proyecto\\\\Capitulos\\\\gd2\\\\gd1Capitulo1.txt'",
     "output_type": "error",
     "traceback": [
      "\u001b[1;31m---------------------------------------------------------------------------\u001b[0m",
      "\u001b[1;31mFileNotFoundError\u001b[0m                         Traceback (most recent call last)",
      "\u001b[1;32m<ipython-input-7-7bad75e68596>\u001b[0m in \u001b[0;36m<module>\u001b[1;34m\u001b[0m\n\u001b[0;32m      5\u001b[0m     \u001b[0mwriter\u001b[0m\u001b[1;33m.\u001b[0m\u001b[0mwriterow\u001b[0m\u001b[1;33m(\u001b[0m\u001b[1;33m(\u001b[0m\u001b[1;34m'ncap'\u001b[0m\u001b[1;33m,\u001b[0m\u001b[1;34m'npag'\u001b[0m\u001b[1;33m,\u001b[0m\u001b[1;34m'nlinea'\u001b[0m\u001b[1;33m,\u001b[0m\u001b[1;34m'tocr'\u001b[0m\u001b[1;33m,\u001b[0m\u001b[1;34m'NULL'\u001b[0m\u001b[1;33m,\u001b[0m \u001b[1;34m'NULL'\u001b[0m\u001b[1;33m,\u001b[0m \u001b[1;34m'NULL'\u001b[0m\u001b[1;33m)\u001b[0m\u001b[1;33m)\u001b[0m\u001b[1;33m\u001b[0m\u001b[1;33m\u001b[0m\u001b[0m\n\u001b[0;32m      6\u001b[0m     \u001b[1;32mfor\u001b[0m \u001b[0marc\u001b[0m \u001b[1;32min\u001b[0m \u001b[0mlista\u001b[0m\u001b[1;33m:\u001b[0m\u001b[1;33m\u001b[0m\u001b[1;33m\u001b[0m\u001b[0m\n\u001b[1;32m----> 7\u001b[1;33m         \u001b[0mf\u001b[0m \u001b[1;33m=\u001b[0m \u001b[0mopen\u001b[0m\u001b[1;33m(\u001b[0m \u001b[0mruta\u001b[0m \u001b[1;33m+\u001b[0m \u001b[0marc\u001b[0m\u001b[1;33m,\u001b[0m \u001b[0mencoding\u001b[0m\u001b[1;33m=\u001b[0m\u001b[1;34m'utf-8'\u001b[0m\u001b[1;33m)\u001b[0m\u001b[1;33m\u001b[0m\u001b[1;33m\u001b[0m\u001b[0m\n\u001b[0m\u001b[0;32m      8\u001b[0m         \u001b[0mnrolinea\u001b[0m \u001b[1;33m=\u001b[0m \u001b[1;36m0\u001b[0m\u001b[1;33m\u001b[0m\u001b[1;33m\u001b[0m\u001b[0m\n\u001b[0;32m      9\u001b[0m         \u001b[0mcap\u001b[0m \u001b[1;33m+=\u001b[0m \u001b[1;36m1\u001b[0m\u001b[1;33m\u001b[0m\u001b[1;33m\u001b[0m\u001b[0m\n",
      "\u001b[1;31mFileNotFoundError\u001b[0m: [Errno 2] No such file or directory: 'D:\\\\ANA\\\\Proyecto\\\\Capitulos\\\\gd2\\\\gd1Capitulo1.txt'"
     ]
    }
   ],
   "source": [
    "with open('gd1Salida.csv', 'wt',encoding='utf-8') as file:  # el flag 'b' es requerido en ciertas plataformas\n",
    "    cap = 0\n",
    "    headers = ['ncap','npag','nlinea','tocr']\n",
    "    writer = csv.writer(file, quoting=csv.QUOTE_NONNUMERIC, lineterminator='\\n')\n",
    "    writer.writerow(('ncap','npag','nlinea','tocr','NULL', 'NULL', 'NULL'))\n",
    "    for arc in lista:\n",
    "        f = open( ruta + arc, encoding='utf-8')\n",
    "        nrolinea = 0\n",
    "        cap += 1\n",
    "        for linea in f:\n",
    "            nrolinea += 1\n",
    "            if 'Pagina: ' in linea:\n",
    "                pag = int( str(linea.split()[1]))\n",
    "                nrolinea -= 1 \n",
    "            elif len(linea)>2:\n",
    "                writer.writerow((str(cap), str(pag) ,str(nrolinea), str(linea.strip()),'NULL', 'NULL', 'NULL'))\n",
    "    f.close()"
   ]
  },
  {
   "cell_type": "code",
   "execution_count": 8,
   "metadata": {
    "scrolled": true
   },
   "outputs": [],
   "source": [
    "for i in range (2,13):\n",
    "    ruta = 'D:\\ANA\\Proyecto\\Capitulos\\gd'+str(i)+'\\\\'\n",
    "    lista = ls( ruta )\n",
    "   \n",
    "    out='gd'+ str(i) + 'Salida.csv'\n",
    "    with open(out, 'wt',encoding='utf-8') as file:  # el flag 'b' es requerido en ciertas plataformas\n",
    "        cap = 0\n",
    "        headers = ['ncap','npag','nlinea','tocr']\n",
    "        writer = csv.writer(file, quoting=csv.QUOTE_NONNUMERIC, lineterminator='\\n')\n",
    "        writer.writerow(('ncap','npag','nlinea','tocr','NULL', 'NULL', 'NULL'))\n",
    "        for arc in lista:\n",
    "            f = open( ruta + arc, encoding='utf-8')\n",
    "            nrolinea = 0\n",
    "            cap += 1\n",
    "            for linea in f:\n",
    "                nrolinea += 1\n",
    "                if 'Pagina: ' in linea:\n",
    "                    pag = int( str(linea.split()[1]))\n",
    "                    nrolinea -= 1 \n",
    "                elif len(linea)>2:\n",
    "                    writer.writerow((str(cap), str(pag) ,str(nrolinea), str(linea.strip()),'NULL', 'NULL', 'NULL'))\n",
    "        f.close()"
   ]
  },
  {
   "cell_type": "code",
   "execution_count": null,
   "metadata": {},
   "outputs": [],
   "source": []
  }
 ],
 "metadata": {
  "kernelspec": {
   "display_name": "Python 3",
   "language": "python",
   "name": "python3"
  },
  "language_info": {
   "codemirror_mode": {
    "name": "ipython",
    "version": 3
   },
   "file_extension": ".py",
   "mimetype": "text/x-python",
   "name": "python",
   "nbconvert_exporter": "python",
   "pygments_lexer": "ipython3",
   "version": "3.7.5"
  }
 },
 "nbformat": 4,
 "nbformat_minor": 2
}
